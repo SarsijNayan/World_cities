{
  "nbformat": 4,
  "nbformat_minor": 0,
  "metadata": {
    "colab": {
      "provenance": [],
      "authorship_tag": "ABX9TyM2MYGq+NHDjv03sclStoU8",
      "include_colab_link": true
    },
    "kernelspec": {
      "name": "python3",
      "display_name": "Python 3"
    },
    "language_info": {
      "name": "python"
    }
  },
  "cells": [
    {
      "cell_type": "markdown",
      "metadata": {
        "id": "view-in-github",
        "colab_type": "text"
      },
      "source": [
        "<a href=\"https://colab.research.google.com/github/SarsijNayan/World_cities/blob/main/World_Towns.ipynb\" target=\"_parent\"><img src=\"https://colab.research.google.com/assets/colab-badge.svg\" alt=\"Open In Colab\"/></a>"
      ]
    },
    {
      "cell_type": "code",
      "source": [
        "# Install required package\n",
        "!pip install folium --quiet\n",
        "\n",
        "# Import necessary libraries\n",
        "import pandas as pd\n",
        "import folium\n",
        "\n",
        "# Load world cities dataset (SimpleMaps public CSV)\n",
        "url = 'https://simplemaps.com/static/data/world-cities/basic/simplemaps_worldcities_basicv1.75/worldcities.csv'\n",
        "df = pd.read_csv(url)\n",
        "\n",
        "# Filter for cities with population over 1 million (or 53 million)\n",
        "# Change this to 53_000_000 if you only want cities over 53M\n",
        "cities = df[df['population'] > 10].copy()\n",
        "\n",
        "# Create a folium map\n",
        "m = folium.Map(location=[20, 0], zoom_start=2, tiles='CartoDB positron')\n",
        "\n",
        "# Add city markers\n",
        "for _, row in cities.iterrows():\n",
        "    popup = f\"{row['city']}, {row['country']}<br>Population: {int(row['population']):,}\"\n",
        "    folium.CircleMarker(\n",
        "        location=[row['lat'], row['lng']],\n",
        "        radius=0.1,\n",
        "        popup=popup,\n",
        "        color='green',\n",
        "        fill=True,\n",
        "        fill_opacity=0.00255555\n",
        "    ).add_to(m)\n",
        "\n",
        "# Display map\n",
        "m\n",
        "# Save the map to an HTML file\n",
        "m.save(\"world_cities_map.html\")\n",
        "\n",
        "# Download the HTML file to your computer\n",
        "files.download(\"world_cities_map.html\")\n",
        "\n"
      ],
      "metadata": {
        "colab": {
          "base_uri": "https://localhost:8080/",
          "height": 17
        },
        "collapsed": true,
        "id": "9WqQZbCnJPfb",
        "outputId": "8d75adcc-cc74-4061-e8d9-017be14d7cf3"
      },
      "execution_count": 18,
      "outputs": [
        {
          "output_type": "display_data",
          "data": {
            "text/plain": [
              "<IPython.core.display.Javascript object>"
            ],
            "application/javascript": [
              "\n",
              "    async function download(id, filename, size) {\n",
              "      if (!google.colab.kernel.accessAllowed) {\n",
              "        return;\n",
              "      }\n",
              "      const div = document.createElement('div');\n",
              "      const label = document.createElement('label');\n",
              "      label.textContent = `Downloading \"${filename}\": `;\n",
              "      div.appendChild(label);\n",
              "      const progress = document.createElement('progress');\n",
              "      progress.max = size;\n",
              "      div.appendChild(progress);\n",
              "      document.body.appendChild(div);\n",
              "\n",
              "      const buffers = [];\n",
              "      let downloaded = 0;\n",
              "\n",
              "      const channel = await google.colab.kernel.comms.open(id);\n",
              "      // Send a message to notify the kernel that we're ready.\n",
              "      channel.send({})\n",
              "\n",
              "      for await (const message of channel.messages) {\n",
              "        // Send a message to notify the kernel that we're ready.\n",
              "        channel.send({})\n",
              "        if (message.buffers) {\n",
              "          for (const buffer of message.buffers) {\n",
              "            buffers.push(buffer);\n",
              "            downloaded += buffer.byteLength;\n",
              "            progress.value = downloaded;\n",
              "          }\n",
              "        }\n",
              "      }\n",
              "      const blob = new Blob(buffers, {type: 'application/binary'});\n",
              "      const a = document.createElement('a');\n",
              "      a.href = window.URL.createObjectURL(blob);\n",
              "      a.download = filename;\n",
              "      div.appendChild(a);\n",
              "      a.click();\n",
              "      div.remove();\n",
              "    }\n",
              "  "
            ]
          },
          "metadata": {}
        },
        {
          "output_type": "display_data",
          "data": {
            "text/plain": [
              "<IPython.core.display.Javascript object>"
            ],
            "application/javascript": [
              "download(\"download_5dd37cb6-7894-440e-9310-b85e50a719eb\", \"world_cities_map.html\", 44663984)"
            ]
          },
          "metadata": {}
        }
      ]
    },
    {
      "cell_type": "code",
      "source": [
        "# Install folium if not already installed\n",
        "!pip install folium --quiet\n",
        "\n",
        "import pandas as pd\n",
        "import folium\n",
        "from google.colab import files\n",
        "\n",
        "# Load the dataset\n",
        "url = 'https://simplemaps.com/static/data/world-cities/basic/simplemaps_worldcities_basicv1.75/worldcities.csv'\n",
        "df = pd.read_csv(url)\n",
        "\n",
        "# Filter cities with population > 1 million\n",
        "cities = df[df['population'] > 10_000].copy()\n",
        "\n",
        "# Create the map\n",
        "m = folium.Map(location=[20, 0], zoom_start=2, tiles='CartoDB positron')\n",
        "\n",
        "# Add markers\n",
        "for _, row in cities.iterrows():\n",
        "    popup = f\"{row['city']}, {row['country']}<br>Population: {int(row['population']):,}\"\n",
        "    folium.CircleMarker(\n",
        "        location=[row['lat'], row['lng']],\n",
        "        radius=5,\n",
        "        popup=popup,\n",
        "        color='blue',\n",
        "        fill=True,\n",
        "        fill_opacity=0.001\n",
        "    ).add_to(m)\n",
        "\n",
        "\n",
        "# Save the map to an HTML file\n",
        "m.save(\"world_cities_map.html\")\n",
        "\n",
        "# Download the HTML file to your computer\n",
        "files.download(\"world_cities_map.html\")\n"
      ],
      "metadata": {
        "colab": {
          "base_uri": "https://localhost:8080/",
          "height": 17
        },
        "id": "g0L0w9BVNHK0",
        "outputId": "7a416c42-666f-4d52-edcc-8c93596cca5d"
      },
      "execution_count": 8,
      "outputs": [
        {
          "output_type": "display_data",
          "data": {
            "text/plain": [
              "<IPython.core.display.Javascript object>"
            ],
            "application/javascript": [
              "\n",
              "    async function download(id, filename, size) {\n",
              "      if (!google.colab.kernel.accessAllowed) {\n",
              "        return;\n",
              "      }\n",
              "      const div = document.createElement('div');\n",
              "      const label = document.createElement('label');\n",
              "      label.textContent = `Downloading \"${filename}\": `;\n",
              "      div.appendChild(label);\n",
              "      const progress = document.createElement('progress');\n",
              "      progress.max = size;\n",
              "      div.appendChild(progress);\n",
              "      document.body.appendChild(div);\n",
              "\n",
              "      const buffers = [];\n",
              "      let downloaded = 0;\n",
              "\n",
              "      const channel = await google.colab.kernel.comms.open(id);\n",
              "      // Send a message to notify the kernel that we're ready.\n",
              "      channel.send({})\n",
              "\n",
              "      for await (const message of channel.messages) {\n",
              "        // Send a message to notify the kernel that we're ready.\n",
              "        channel.send({})\n",
              "        if (message.buffers) {\n",
              "          for (const buffer of message.buffers) {\n",
              "            buffers.push(buffer);\n",
              "            downloaded += buffer.byteLength;\n",
              "            progress.value = downloaded;\n",
              "          }\n",
              "        }\n",
              "      }\n",
              "      const blob = new Blob(buffers, {type: 'application/binary'});\n",
              "      const a = document.createElement('a');\n",
              "      a.href = window.URL.createObjectURL(blob);\n",
              "      a.download = filename;\n",
              "      div.appendChild(a);\n",
              "      a.click();\n",
              "      div.remove();\n",
              "    }\n",
              "  "
            ]
          },
          "metadata": {}
        },
        {
          "output_type": "display_data",
          "data": {
            "text/plain": [
              "<IPython.core.display.Javascript object>"
            ],
            "application/javascript": [
              "download(\"download_cc5a622d-703f-42b7-8abb-bd79f3c50d3b\", \"world_cities_map.html\", 29717230)"
            ]
          },
          "metadata": {}
        }
      ]
    },
    {
      "cell_type": "code",
      "source": [],
      "metadata": {
        "id": "H8EZlV9uOW_U"
      },
      "execution_count": null,
      "outputs": []
    }
  ]
}